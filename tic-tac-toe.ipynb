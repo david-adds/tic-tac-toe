{
 "cells": [
  {
   "cell_type": "markdown",
   "id": "bbbaed5d",
   "metadata": {},
   "source": [
    "# Tic Tac Toe Game"
   ]
  },
  {
   "cell_type": "code",
   "execution_count": null,
   "id": "061ce4fa",
   "metadata": {},
   "outputs": [],
   "source": [
    "from IPython.display import clear_output\n",
    "\n",
    "def display_board(board):\n",
    "    \n",
    "    clear_output() \n",
    "    print(board[1]+'|'+board[2]+'|'+board[3])\n",
    "    print('-+-+-')\n",
    "    print(board[4]+'|'+board[5]+'|'+board[6])\n",
    "    print('-+-+-')\n",
    "    print(board[7]+'|'+board[8]+'|'+board[9])"
   ]
  },
  {
   "cell_type": "code",
   "execution_count": null,
   "id": "70bb1148",
   "metadata": {},
   "outputs": [],
   "source": [
    "def define_players():\n",
    "    marker = ' '\n",
    "    while marker not in ['X','O']:\n",
    "        marker=input(\"Chose the X or O marker to start the game:\").upper()\n",
    "        if marker not in ['X','O']:\n",
    "            print(\"You must choose X or O to start the game:\")\n",
    "            \n",
    "    player1=marker\n",
    "    if player1=='X':\n",
    "        player2='O'\n",
    "    else:\n",
    "        player2='X'\n",
    "\n",
    "    return (player1, player2)\n",
    "    "
   ]
  },
  {
   "cell_type": "code",
   "execution_count": null,
   "id": "a7107223",
   "metadata": {},
   "outputs": [],
   "source": [
    "def position_choice():\n",
    "    \n",
    "    choice=' '\n",
    "    while choice not in list(map(str,range(1,10))):\n",
    "\n",
    "        choice=input(\"Select a board position (1 to 9): \")\n",
    "        \n",
    "        if choice not in list(map(str,range(1,10))):\n",
    "            print(\"SORRY, INVALID CHOICE!!!\")\n",
    "    return int(choice)    "
   ]
  },
  {
   "cell_type": "code",
   "execution_count": null,
   "id": "8ce7bf9f",
   "metadata": {},
   "outputs": [],
   "source": [
    "def win_check(pos):\n",
    "    if( \n",
    "        (pos[1]==pos[2]==pos[3] and pos[1]!=' ')\n",
    "        or (pos[4]==pos[5]==pos[6] and (pos[4]!=' '))\n",
    "        or (pos[7]==pos[8]==pos[9] and (pos[7]!=' '))\n",
    "        or (pos[1]==pos[4]==pos[7] and (pos[1]!=' '))\n",
    "        or (pos[2]==pos[5]==pos[8] and (pos[2]!=' '))\n",
    "        or (pos[3]==pos[6]==pos[9] and (pos[3]!=' '))\n",
    "        or (pos[1]==pos[5]==pos[9] and (pos[1]!=' '))\n",
    "        or (pos[3]==pos[5]==pos[7] and (pos[3]!=' '))\n",
    "    ):\n",
    "        print(\"\\nCONGRATULATIONS, YOU WON THE GAME!!!\")\n",
    "        winner=True\n",
    "    else: \n",
    "        winner=False\n",
    "    return winner"
   ]
  },
  {
   "cell_type": "code",
   "execution_count": null,
   "id": "e8a9cebe",
   "metadata": {},
   "outputs": [],
   "source": [
    "def game_on():\n",
    "    y_n=['Y','N']\n",
    "    op='beats me!'\n",
    "    while op not in y_n:\n",
    "        op=input(\"\\nDo you want to play another round (Y or N): \").upper()\n",
    "        if op not in y_n:\n",
    "            print('Please enter Y or N')\n",
    "    return op"
   ]
  },
  {
   "cell_type": "code",
   "execution_count": null,
   "id": "cdc03578",
   "metadata": {},
   "outputs": [],
   "source": [
    "def initialize_board():\n",
    "    init_board=[' ']*10\n",
    "    board=init_board\n",
    "    display_board(board)\n",
    "    player1,player2=define_players()\n",
    "    player=player1\n",
    "    tie=[' ',]\n",
    "    return player,player1,player2,board,tie"
   ]
  },
  {
   "cell_type": "code",
   "execution_count": null,
   "id": "2b8990bc",
   "metadata": {},
   "outputs": [],
   "source": [
    "def position_availability(player):\n",
    "    \n",
    "    index=position_choice() \n",
    "    while not board[index]==' ':\n",
    "        print(f\"Position {index} was already taken!\")\n",
    "        index=position_choice()\n",
    "    else:\n",
    "        board[index]=player\n",
    "\n",
    "    return board,index\n",
    "        "
   ]
  },
  {
   "cell_type": "code",
   "execution_count": null,
   "id": "ec626da7",
   "metadata": {},
   "outputs": [],
   "source": [
    "player,player1,player2,board,tie =initialize_board()\n",
    "winner = False\n",
    "\n",
    "while not winner:\n",
    "    \n",
    "    board,index=position_availability(player)\n",
    "    display_board(board)\n",
    "    \n",
    "    tie.append(board[index])\n",
    "    #print(tie)\n",
    "    \n",
    "    if player==player1:\n",
    "        player=player2\n",
    "    else:\n",
    "        player=player1\n",
    "        \n",
    "    winner=win_check(pos=board)\n",
    "    if len(tie)==10:\n",
    "        print('\\nWe have a tie here!!!')\n",
    "        op=game_on()\n",
    "        \n",
    "        if op == 'Y':\n",
    "            player,player1,player2,board,tie = initialize_board()\n",
    "            winner=False\n",
    "        else:\n",
    "            winner=True\n",
    "    elif winner: \n",
    "        op=game_on()\n",
    "        \n",
    "        if op == 'Y':\n",
    "            player,player1,player2,board,tie = initialize_board()\n",
    "            winner=False\n",
    "        else:\n",
    "            winner=True\n",
    "    "
   ]
  }
 ],
 "metadata": {
  "kernelspec": {
   "display_name": "Python 3",
   "language": "python",
   "name": "python3"
  },
  "language_info": {
   "codemirror_mode": {
    "name": "ipython",
    "version": 3
   },
   "file_extension": ".py",
   "mimetype": "text/x-python",
   "name": "python",
   "nbconvert_exporter": "python",
   "pygments_lexer": "ipython3",
   "version": "3.9.4"
  }
 },
 "nbformat": 4,
 "nbformat_minor": 5
}
